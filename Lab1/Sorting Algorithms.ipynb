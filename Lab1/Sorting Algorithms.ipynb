{
 "cells": [
  {
   "cell_type": "markdown",
   "id": "ef5835b5",
   "metadata": {},
   "source": [
    "# insertion sort"
   ]
  },
  {
   "cell_type": "code",
   "execution_count": null,
   "id": "81af870c",
   "metadata": {},
   "outputs": [],
   "source": [
    "def insertionSort(arr):\n",
    "    comparison = 0\n",
    "    for i in range(1, len(arr)):\n",
    "        key = arr[i]\n",
    "        j = i - 1\n",
    "\n",
    "        while j >= 0 and arr[j] > key:\n",
    "            comparison += 1\n",
    "            arr[j + 1] = arr[j]\n",
    "            j -= 1\n",
    "        arr[j + 1] = key\n",
    "\n",
    "    return arr, comparison"
   ]
  },
  {
   "cell_type": "markdown",
   "id": "86c51b18",
   "metadata": {},
   "source": [
    "# merge sort"
   ]
  },
  {
   "cell_type": "code",
   "execution_count": null,
   "id": "811136a4",
   "metadata": {},
   "outputs": [],
   "source": [
    "def mergeSort(arr):\n",
    "    if len(arr) <= 1:\n",
    "        return arr, 0  # Return 0 comparisons for empty or single-element arrays\n",
    "    \n",
    "    mid = len(arr) // 2\n",
    "    left = arr[:mid]\n",
    "    right = arr[mid:]\n",
    "    \n",
    "    left, left_comparisons = mergeSort(left)\n",
    "    right, right_comparisons = mergeSort(right)\n",
    "    \n",
    "    merged, merge_comparisons = merge(left, right)\n",
    "    \n",
    "    return merged, (left_comparisons + right_comparisons + merge_comparisons)\n",
    " \n",
    "def merge(left, right):\n",
    "    result = []\n",
    "    i = j = 0\n",
    "    comparisons = 0\n",
    "    \n",
    "    while i < len(left) and j < len(right):\n",
    "        if left[i] < right[j]:\n",
    "            result.append(left[i])\n",
    "            i += 1\n",
    "        else:\n",
    "            result.append(right[j])\n",
    "            j += 1\n",
    "        comparisons += 1  # Count each comparison\n",
    "        \n",
    "    # im not sure why but this caused an error, i dont think changing it affects anything but you can check\n",
    "    # result += left[i:]\n",
    "    # result += right[j:]\n",
    "    result.extend(left[i:])\n",
    "    result.extend(right[j:])\n",
    "    \n",
    "    return result, comparisons"
   ]
  },
  {
   "cell_type": "markdown",
   "id": "9e96915b",
   "metadata": {},
   "source": [
    "# hybrid sort"
   ]
  },
  {
   "cell_type": "code",
   "execution_count": null,
   "id": "c781f480",
   "metadata": {},
   "outputs": [],
   "source": [
    "def hybridSort(arr, S):\n",
    "    mid = len(arr)//2\n",
    "    if (len(arr) <= S):\n",
    "        sorted_arr, comparisons = insertionSort(arr)\n",
    "        return sorted_arr, comparisons\n",
    "    else:\n",
    "        left, left_comparisons = hybridSort(arr[:mid], S)\n",
    "        right, right_comparisons = hybridSort(arr[mid:], S)\n",
    "        merged, merge_comparisons = merge(left, right)\n",
    "        return merged, left_comparisons + right_comparisons + merge_comparisons    \n"
   ]
  },
  {
   "cell_type": "code",
   "execution_count": null,
   "id": "7e271afb",
   "metadata": {},
   "outputs": [],
   "source": [
    "arr = [0, 10, 6, 2, 1, 8, 7, 4, 3, 9, 12, 18, 100]\n",
    "insertion_sorted, insertion_comparisons = insertionSort(arr.copy())\n",
    "merge_sorted, merge_comparisons = mergeSort(arr.copy())\n",
    "hybrid_sorted, hybrid_comparisons = hybridSort(arr.copy(), 3)\n",
    "print(\"Insertion Sort result:\", insertion_sorted)\n",
    "print(\"Merge Sort result:\", merge_sorted)\n",
    "print(\"Hybrid Sort result:\", hybrid_sorted)\n",
    "\n",
    "print(\"Insertion Sort Comparisons:\", insertion_comparisons)\n",
    "print(\"Merge Sort Comparisons:\", merge_comparisons)\n",
    "print(\"Hybrid Sort Comparisons:\", hybrid_comparisons)"
   ]
  },
  {
   "cell_type": "markdown",
   "id": "cc628b56",
   "metadata": {},
   "source": [
    "# Generating random numbers"
   ]
  },
  {
   "cell_type": "code",
   "execution_count": null,
   "id": "38ab126c",
   "metadata": {},
   "outputs": [],
   "source": [
    "import random"
   ]
  },
  {
   "cell_type": "code",
   "execution_count": null,
   "id": "349364db",
   "metadata": {},
   "outputs": [],
   "source": [
    "randomlist = random.sample(range(0, 1000), 1000)\n",
    "print(randomlist)"
   ]
  },
  {
   "cell_type": "code",
   "execution_count": null,
   "id": "5b7d296c",
   "metadata": {},
   "outputs": [],
   "source": [
    "insertion_sorted, insertion_comparisons = insertionSort(randomlist.copy())\n",
    "merge_sorted, merge_comparisons = mergeSort(randomlist.copy())\n",
    "hybrid_sorted, hybrid_comparisons = hybridSort(randomlist.copy(), 10)\n",
    "# print(\"Insertion Sort result:\", insertion_sorted)\n",
    "# print(\"Merge Sort result:\", merge_sorted)\n",
    "# print(\"Hybrid Sort result:\", hybrid_sorted)\n",
    "\n",
    "print(\"Insertion Sort Comparisons:\", insertion_comparisons)\n",
    "print(\"Merge Sort Comparisons:\", merge_comparisons)\n",
    "print(\"Hybrid Sort Comparisons:\", hybrid_comparisons)"
   ]
  },
  {
   "cell_type": "markdown",
   "id": "643dffb9",
   "metadata": {},
   "source": [
    "### Generating Test data"
   ]
  },
  {
   "cell_type": "code",
   "execution_count": null,
   "id": "18d34d9d",
   "metadata": {},
   "outputs": [],
   "source": [
    "from numpy import random\n",
    "x = 10000 #largest value for dataset"
   ]
  },
  {
   "cell_type": "code",
   "execution_count": null,
   "id": "912fbef0",
   "metadata": {},
   "outputs": [],
   "source": [
    "data_1k = random.randint(0, x, size=(1000)) # 1 000\n",
    "data_10k = random.randint(0, x, size=(10000)) # 10 000\n",
    "data_100k = random.randint(0, x, size=(100000)) # 100 000\n",
    "data_1M = random.randint(0, x, size=(1000000)) # 1 000 000\n",
    "data_10M = random.randint(0, x, size=(10000000)) # 10 000 000\n",
    "\n",
    "data_1k = data_1k.tolist()\n",
    "data_10k = data_10k.tolist()\n",
    "data_100k = data_100k.tolist()\n",
    "data_1M = data_1M.tolist()\n",
    "data_10M = data_10M.tolist()"
   ]
  },
  {
   "cell_type": "markdown",
   "id": "da80974d",
   "metadata": {},
   "source": [
    "---\n",
    "# Time complexity analysis"
   ]
  },
  {
   "cell_type": "code",
   "execution_count": null,
   "id": "571544fe",
   "metadata": {},
   "outputs": [],
   "source": [
    "# imports\n",
    "import matplotlib.pyplot as plt\n",
    "import math\n",
    "import numpy as np"
   ]
  },
  {
   "cell_type": "code",
   "execution_count": null,
   "id": "eefccdee",
   "metadata": {},
   "outputs": [],
   "source": [
    "# calculate theoretical\n",
    "def worstcase(S, n):\n",
    "    # worst case: O(nS + nlog2(n/S))\n",
    "    sum = n*S + n*math.log((n/S), 2)\n",
    "\n",
    "    return sum\n",
    "    \n",
    "def bestcase(S, n):\n",
    "    # best case: O(n + nlog2(n/S))\n",
    "    sum = n + n*math.log((n/S), 2)\n",
    "\n",
    "    return sum"
   ]
  },
  {
   "cell_type": "code",
   "execution_count": null,
   "id": "1f94166e",
   "metadata": {},
   "outputs": [],
   "source": [
    "# part i\n",
    "# NOTE this chunk runs the 10 mil data set, remove if its slow\n",
    "\n",
    "S = 20\n",
    "theo_wc = []\n",
    "theo_bc = []\n",
    "\n",
    "tests = [data_1k, data_10k, data_100k, data_1M, data_10M]\n",
    "# tests = [data_1k, data_10k, data_100k, data_1M]\n",
    "\n",
    "keycomps = np.zeros(len(tests))\n",
    "\n",
    "for i in range(len(tests)):\n",
    "    # get data\n",
    "    print(len(tests[i]))\n",
    "    merged, keycomps[i] = hybridSort(tests[i], S)\n",
    "\n",
    "    # calculate theoretical cases\n",
    "    theo_wc.append(worstcase(S, len(tests[i])))\n",
    "    theo_bc.append(bestcase(S, len(tests[i])))\n"
   ]
  },
  {
   "cell_type": "code",
   "execution_count": null,
   "id": "006096bc",
   "metadata": {},
   "outputs": [],
   "source": [
    "# draw graphs\n",
    "name = [\"1k\", \"10k\", \"100k\", \"1M\", \"10M\"]\n",
    "# name = [\"1k\", \"10k\", \"100k\", \"1M\"]\n",
    "\n",
    "data_i = {\n",
    "    \"test\": keycomps,\n",
    "    \"best\": theo_bc,\n",
    "    \"worst\": theo_wc\n",
    "}\n",
    "\n",
    "x = np.arange(len(name))\n",
    "\n",
    "width = 0.25\n",
    "multiplier = 0\n",
    "\n",
    "fig, ax = plt.subplots(layout='constrained', figsize=(18, 9))\n",
    "\n",
    "for attribute, measurement in data_i.items():\n",
    "    offset = width * multiplier\n",
    "    rects = ax.bar(x + offset, measurement, width, label=attribute)\n",
    "    # ax.bar_label(rects, padding=3)\n",
    "    multiplier += 1\n",
    "\n",
    "ax.set_yscale('log')\n",
    "\n",
    "ax.set_ylabel('keycomps')\n",
    "ax.set_xlabel('n')\n",
    "ax.set_title('S = 20')\n",
    "ax.set_xticks(x + width, name)\n",
    "ax.legend(loc='upper left', ncol=3)\n"
   ]
  },
  {
   "cell_type": "code",
   "execution_count": null,
   "id": "0525586b",
   "metadata": {},
   "outputs": [],
   "source": [
    "# part ii\n",
    "\n",
    "# max value of S\n",
    "maxS = 50\n",
    "interval = 1\n",
    "loops = 100\n",
    "\n",
    "S = 0\n",
    "keycomps = np.zeros(int(maxS/interval))\n",
    "\n",
    "theo_wc = []\n",
    "theo_bc = []\n",
    "\n",
    "# dont use, it creates that weird spiky graph\n",
    "# test = [random.randint(0, 10000, size=(10000)) for _ in range(loops)]\n",
    "\n",
    "for i in range(len(keycomps)):\n",
    "    S = S + interval\n",
    "    # get data\n",
    "    # print(S)\n",
    "    temp = 0\n",
    "    total = 0\n",
    "\n",
    "    for j in range(loops):\n",
    "        # merged, temp = hybridSort(test[j], S)\n",
    "        merged, temp = hybridSort(random.randint(0, 10000, size=(10000)), S)\n",
    "        total += temp\n",
    "    \n",
    "    keycomps[i] = total/loops\n",
    "\n",
    "\n",
    "print(keycomps)"
   ]
  },
  {
   "cell_type": "code",
   "execution_count": null,
   "id": "f340bbeb",
   "metadata": {},
   "outputs": [],
   "source": [
    "# draw graphs\n",
    "x = np.arange(0, maxS, interval)\n",
    "\n",
    "plt.figure(figsize=(18, 9))\n",
    "plt.ylim(keycomps.min()-10000, keycomps.max()+10000)\n",
    "plt.ticklabel_format(scilimits=(-5, 8))\n",
    "# plt.yscale('log')\n",
    "plt.title(\"key comparisons with n = 10000\")\n",
    "plt.xlabel(\"S\")\n",
    "plt.ylabel(\"keycomps\")\n",
    "plt.plot(x, keycomps, label = \"keycomps\")\n",
    "\n",
    "plt.legend()"
   ]
  },
  {
   "cell_type": "code",
   "execution_count": null,
   "id": "79fa55cc",
   "metadata": {},
   "outputs": [],
   "source": [
    "print(keycomps)\n",
    "\n",
    "print(keycomps.min())\n",
    "print(np.where(keycomps == keycomps.min()))"
   ]
  },
  {
   "cell_type": "markdown",
   "id": "14edbab4",
   "metadata": {},
   "source": [
    "----\n",
    "Find optimal value of S"
   ]
  },
  {
   "cell_type": "code",
   "execution_count": null,
   "id": "b792c4d6",
   "metadata": {},
   "outputs": [],
   "source": [
    "merge_theory = []\n",
    "insert_theory = []\n",
    "limits = 15 # it was 50 at first, i made it lower to see the curve better\n",
    "loop = 5000\n",
    "\n",
    "for i in range(limits):\n",
    "    n = i+1\n",
    "\n",
    "    avg_m = 0\n",
    "    avg_i = 0\n",
    "\n",
    "    for j in range(loop):\n",
    "        test = random.randint(0, 10000, size=(n))\n",
    "        test = test.tolist()\n",
    "        m, merges = mergeSort(test)\n",
    "        ins, inserts = insertionSort(test)\n",
    "        avg_m += merges\n",
    "        avg_i += inserts\n",
    "    \n",
    "    res_m = avg_m/loop\n",
    "    res_i = avg_i/loop\n",
    "\n",
    "    merge_theory.append(res_m)\n",
    "    insert_theory.append(res_i)"
   ]
  },
  {
   "cell_type": "code",
   "execution_count": null,
   "id": "bbb5b0c1",
   "metadata": {},
   "outputs": [],
   "source": [
    "# draw graphs\n",
    "x = np.arange(0, limits)\n",
    "\n",
    "plt.figure(figsize=(18, 9))\n",
    "# plt.ylim(keycomps.min()-100000, keycomps.max()+100000)\n",
    "# plt.ticklabel_format(scilimits=(-5, 8))\n",
    "# plt.yscale('log')\n",
    "\n",
    "plt.plot(x, merge_theory, label = \"merge\")\n",
    "plt.plot(x, insert_theory, label = \"insert\")\n",
    "\n",
    "# no need test case plot\n",
    "# plt.plot(x, theo_bc, label = \"best case\")\n",
    "# plt.plot(x, theo_wc, label = \"worst case\")\n",
    "\n",
    "plt.legend()"
   ]
  },
  {
   "cell_type": "code",
   "execution_count": null,
   "metadata": {},
   "outputs": [],
   "source": [
    "print(\"n\\t difference\")\n",
    "for i in range(len(merge_theory)):\n",
    "    if insert_theory[i] < merge_theory[i]:\n",
    "        print(i+1, \"\\t\", merge_theory[i]-insert_theory[i])"
   ]
  },
  {
   "cell_type": "markdown",
   "id": "f420823f",
   "metadata": {},
   "source": [
    "----\n",
    "testing, delete later"
   ]
  },
  {
   "cell_type": "code",
   "execution_count": null,
   "id": "519f7df9",
   "metadata": {},
   "outputs": [],
   "source": [
    "# def modHybridSort(arr, S, depth):\n",
    "#     mid = len(arr)//2\n",
    "#     if (len(arr) <= S):\n",
    "#         sorted_arr, comparisons = insertionSort(arr)\n",
    "#         return sorted_arr, comparisons, depth\n",
    "#     else:\n",
    "#         depth += 1\n",
    "#         left, left_comparisons, depthl = modHybridSort(arr[:mid], S, depth)\n",
    "#         right, right_comparisons, depthr = modHybridSort(arr[mid:], S, depth)\n",
    "#         merged, merge_comparisons = merge(left, right)\n",
    "        \n",
    "#         if(depthl < depthr):\n",
    "#             depth = depthr\n",
    "#         else:\n",
    "#             depth = depthl\n",
    "            \n",
    "#         return merged, left_comparisons + right_comparisons + merge_comparisons, depth\n"
   ]
  },
  {
   "cell_type": "code",
   "execution_count": null,
   "id": "7127f4c0",
   "metadata": {},
   "outputs": [],
   "source": [
    "# tries = 1000\n",
    "\n",
    "# test_data = np.zeros(tries)\n",
    "# test_depth = np.zeros(tries)\n",
    "# S = 10\n",
    "\n",
    "# for i in range(tries):\n",
    "#     test = random.randint(0, 10000, size=(1000))\n",
    "\n",
    "#     # get data\n",
    "#     merged, test_data[i], test_depth[i] = (modHybridSort(test, S, 0))"
   ]
  },
  {
   "cell_type": "code",
   "execution_count": null,
   "id": "c5afb575",
   "metadata": {},
   "outputs": [],
   "source": [
    "# from statistics import mean \n",
    "\n",
    "# print(mean(test_data))\n",
    "# print(mean(test_depth))"
   ]
  }
 ],
 "metadata": {
  "kernelspec": {
   "display_name": "Python 3 (ipykernel)",
   "language": "python",
   "name": "python3"
  },
  "language_info": {
   "codemirror_mode": {
    "name": "ipython",
    "version": 3
   },
   "file_extension": ".py",
   "mimetype": "text/x-python",
   "name": "python",
   "nbconvert_exporter": "python",
   "pygments_lexer": "ipython3",
   "version": "3.9.13"
  }
 },
 "nbformat": 4,
 "nbformat_minor": 5
}
