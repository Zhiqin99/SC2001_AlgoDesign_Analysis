{
 "cells": [
  {
   "cell_type": "code",
   "execution_count": null,
   "id": "f107ee6f",
   "metadata": {},
   "outputs": [],
   "source": [
    "import random\n",
    "import time\n",
    "import matplotlib.pyplot as plt"
   ]
  },
  {
   "cell_type": "code",
   "execution_count": null,
   "id": "79fe9277",
   "metadata": {},
   "outputs": [],
   "source": [
    "def insertionSort(arr):\n",
    "    comparison = 0\n",
    "    \n",
    "    for i in range(1, len(arr)):\n",
    "        key = arr[i]\n",
    "        j = i - 1\n",
    "\n",
    "        while j >= 0 and arr[j] > key:\n",
    "            comparison += 1\n",
    "            arr[j + 1] = arr[j]\n",
    "            j -= 1\n",
    "        arr[j + 1] = key\n",
    "    \n",
    "    return arr, comparison"
   ]
  },
  {
   "cell_type": "code",
   "execution_count": null,
   "id": "7e628852",
   "metadata": {},
   "outputs": [],
   "source": [
    "def mergeSort(arr):\n",
    "    if len(arr) <= 1:\n",
    "        return arr, 0  # Return 0 comparisons for empty or single-element arrays\n",
    "    \n",
    "    mid = len(arr) // 2\n",
    "    left = arr[:mid]\n",
    "    right = arr[mid:]\n",
    "    \n",
    "    left, left_comparisons = mergeSort(left)\n",
    "    right, right_comparisons = mergeSort(right)\n",
    "    \n",
    "    merged, merge_comparisons = merge(left, right)\n",
    "    \n",
    "    return merged, left_comparisons + right_comparisons + merge_comparisons\n",
    " \n",
    "def merge(left, right):\n",
    "    result = []\n",
    "    i = j = 0\n",
    "    comparisons = 0\n",
    "    \n",
    "    while i < len(left) and j < len(right):\n",
    "        if left[i] < right[j]:\n",
    "            result.append(left[i])\n",
    "            i += 1\n",
    "        else:\n",
    "            result.append(right[j])\n",
    "            j += 1\n",
    "        comparisons += 1  # Count each comparison\n",
    "        \n",
    "    \n",
    "    # result += left[i:]\n",
    "    # result += right[j:]\n",
    "\n",
    "    result.extend(left[i:])\n",
    "    result.extend(right[j:])\n",
    "    \n",
    "    return result, comparisons"
   ]
  },
  {
   "cell_type": "code",
   "execution_count": null,
   "id": "911a3e1c",
   "metadata": {},
   "outputs": [],
   "source": [
    "def hybridSort(arr, S):\n",
    "    mid = len(arr)//2\n",
    "    if (len(arr) <= S):\n",
    "        sorted_arr, comparisons = insertionSort(arr)\n",
    "        return sorted_arr, comparisons\n",
    "    else:\n",
    "        left, left_comparisons = hybridSort(arr[:mid], S)\n",
    "        right, right_comparisons = hybridSort(arr[mid:], S)\n",
    "        merged, merge_comparisons = merge(left, right)\n",
    "        return merged, left_comparisons + right_comparisons + merge_comparisons "
   ]
  },
  {
   "cell_type": "code",
   "execution_count": null,
   "id": "a070610e",
   "metadata": {},
   "outputs": [],
   "source": [
    "def generate_random_integers(n, min_val, max_val):\n",
    "    randomlist = random.sample(range(min_val, max_val), n)\n",
    "    return randomlist"
   ]
  },
  {
   "cell_type": "code",
   "execution_count": null,
   "id": "bbe8abee",
   "metadata": {},
   "outputs": [],
   "source": [
    "def AvgTimeCmpMerge (n , nums):\n",
    "    avgTime = 0\n",
    "    avgCmp = 0\n",
    "\n",
    "    for i in range (0,n):\n",
    "        start_time = time.process_time()\n",
    "        merged , cmp = mergeSort(nums[i])\n",
    "        end_time = time.process_time()\n",
    "        avgCmp += cmp\n",
    "        avgTime += (end_time - start_time)\n",
    "        \n",
    "    \n",
    "    return avgCmp/n , avgTime/n\n",
    "             "
   ]
  },
  {
   "cell_type": "code",
   "execution_count": null,
   "id": "dfa69171",
   "metadata": {},
   "outputs": [],
   "source": [
    "def AvgTimeCmpHybrid (n , nums, S):\n",
    "    avgTime = 0\n",
    "    avgCmp = 0\n",
    "    \n",
    "    for i in range (0,n):\n",
    "        start_time = time.process_time()\n",
    "        hybrid , cmp = hybridSort(nums[i], S)\n",
    "        end_time = time.process_time()\n",
    "        avgCmp += cmp\n",
    "        avgTime += (end_time - start_time)\n",
    "    \n",
    "    return avgCmp/n , avgTime/n"
   ]
  },
  {
   "cell_type": "code",
   "execution_count": null,
   "id": "209e4250",
   "metadata": {},
   "outputs": [],
   "source": [
    "# using time.time() instead\n",
    "def AvgTimeCmpMerge_t (n , nums):\n",
    "    avgTime = 0\n",
    "    avgCmp = 0\n",
    "\n",
    "    for i in range (0,n):\n",
    "        start_time = time.time()\n",
    "        merged , cmp = mergeSort(nums[i])\n",
    "        end_time = time.time()\n",
    "        avgCmp += cmp\n",
    "        avgTime += (end_time - start_time)\n",
    "        \n",
    "    \n",
    "    return avgCmp/n , avgTime/n\n",
    "\n",
    "def AvgTimeCmpHybrid_t (n , nums, S):\n",
    "    avgTime = 0\n",
    "    avgCmp = 0\n",
    "    \n",
    "    for i in range (0,n):\n",
    "        start_time = time.time()\n",
    "        hybrid , cmp = hybridSort(nums[i], S)\n",
    "        end_time = time.time()\n",
    "        avgCmp += cmp\n",
    "        avgTime += (end_time - start_time)\n",
    "    \n",
    "    return avgCmp/n , avgTime/n"
   ]
  },
  {
   "cell_type": "code",
   "execution_count": null,
   "id": "949e4bcc",
   "metadata": {},
   "outputs": [],
   "source": [
    "random_numbers = [generate_random_integers(10000000, 0, 10000) for _ in range(5)]"
   ]
  },
  {
   "cell_type": "code",
   "execution_count": null,
   "id": "fbab2b81",
   "metadata": {},
   "outputs": [],
   "source": [
    "# from numpy import random\n",
    "# x = 10000 #largest value for dataset\n",
    "\n",
    "# random_numbers = [random.randint(0, x, size=(10000000)) for _ in range(5)]\n",
    "# for i in range(5):\n",
    "#     random_numbers[i].tolist()\n",
    "# random_numbers = random_numbers.tolist()"
   ]
  },
  {
   "cell_type": "code",
   "execution_count": null,
   "id": "e4da5e54",
   "metadata": {
    "scrolled": true
   },
   "outputs": [],
   "source": [
    "# cmp_merge , time_merge = AvgTimeCmpMerge(5 , random_numbers)\n",
    "# print(\"Average number of comparison(merge):\" , cmp_merge)\n",
    "# print(\"Average CPU time(merge):\" , time_merge , \"s\")\n",
    "\n",
    "cmp_merge_t , time_merge_t = AvgTimeCmpMerge_t(5 , random_numbers)\n",
    "print(\"Average number of comparison(merge):\" , cmp_merge_t)\n",
    "print(\"Average CPU time(merge):\" , time_merge_t , \"s\")"
   ]
  },
  {
   "cell_type": "code",
   "execution_count": null,
   "id": "09fb8daa",
   "metadata": {},
   "outputs": [],
   "source": [
    "# cmp_hybrid , time_hybrid = AvgTimeCmpHybrid(5 , random_numbers, 7)\n",
    "# print(\"Average number of comparison(Hybrid):\" , cmp_hybrid)\n",
    "# print(\"Average CPU time(hybrid):\" , time_hybrid , \"s\")\n",
    "\n",
    "cmp_hybrid_t , time_hybrid_t = AvgTimeCmpHybrid_t(5 , random_numbers, 7)\n",
    "print(\"Average number of comparison(Hybrid):\" , cmp_hybrid_t)\n",
    "print(\"Average CPU time(hybrid):\" , time_hybrid_t , \"s\")"
   ]
  },
  {
   "cell_type": "code",
   "execution_count": null,
   "id": "6061e184",
   "metadata": {},
   "outputs": [],
   "source": [
    "categories = ['MergeSort', 'HybridSort']\n",
    "# values = [cmp_merge , cmp_hybrid]\n",
    "values = [cmp_merge_t , cmp_hybrid_t]\n",
    "\n",
    "\n",
    "plt.figure(figsize=(3, 4)) \n",
    "plt.bar(categories, values, color=['blue', 'green'])\n",
    "\n",
    "plt.yscale('log') # default linear, was playing with this to see which graph looks better\n",
    "\n",
    "# y_min = cmp_hybrid - 100000\n",
    "# y_max = cmp_merge +  100000\n",
    "# plt.ylim(y_min, y_max)\n",
    "# Add labels and title\n",
    "\n",
    "#plt.title('Average number of key Comparisons - merge sort vs hybrid sort')\n",
    "plt.ylabel('# of key comparisions(e^8)')\n",
    "plt.show()"
   ]
  },
  {
   "cell_type": "code",
   "execution_count": null,
   "id": "3f3c8ac4",
   "metadata": {},
   "outputs": [],
   "source": [
    "categories = ['MergeSort', 'HybridSort']\n",
    "# values = [time_merge , time_hybrid]\n",
    "values = [time_merge_t , time_hybrid_t]\n",
    "\n",
    "plt.figure(figsize=(3, 4)) \n",
    "plt.bar(categories, values, color=['blue', 'green'])\n",
    "\n",
    "\n",
    "# Add labels and title\n",
    "#plt.title('Average CPU time - merge sort vs hybrid sort')\n",
    "plt.ylabel('Seconds')\n",
    "\n",
    "\n",
    "plt.show()"
   ]
  },
  {
   "cell_type": "code",
   "execution_count": null,
   "id": "5f1ea63b",
   "metadata": {},
   "outputs": [],
   "source": [
    "print(cmp_merge - cmp_hybrid)\n",
    "print((time_merge - time_hybrid)/time_merge)"
   ]
  },
  {
   "cell_type": "code",
   "execution_count": null,
   "id": "caacb8bb",
   "metadata": {},
   "outputs": [],
   "source": []
  }
 ],
 "metadata": {
  "kernelspec": {
   "display_name": "Python 3 (ipykernel)",
   "language": "python",
   "name": "python3"
  },
  "language_info": {
   "codemirror_mode": {
    "name": "ipython",
    "version": 3
   },
   "file_extension": ".py",
   "mimetype": "text/x-python",
   "name": "python",
   "nbconvert_exporter": "python",
   "pygments_lexer": "ipython3",
   "version": "3.9.13"
  }
 },
 "nbformat": 4,
 "nbformat_minor": 5
}
