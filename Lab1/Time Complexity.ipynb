{
 "cells": [
  {
   "cell_type": "markdown",
   "metadata": {},
   "source": [
    "Analyze time complexity: Run your program of the hybrid algorithm on the\n",
    "datasets generated in Step (b). Record the number of key comparisons\n",
    "performed in each case. <br>\n",
    "  * i. With the value of S fixed, plot the number of key comparisons over\n",
    "different sizes of the input list n. Compare your empirical results with\n",
    "your theoretical analysis of the time complexity. <br>\n",
    "  * ii. With the input size n fixed, plot the number of key comparisons over\n",
    "different values of S. Compare your empirical results with your\n",
    "theoretical analysis of the time complexity. <br>\n",
    "  * iii. Using different sizes of input datasets, study how to determine an\n",
    "optimal value of S for the best performance of this hybrid algorithm"
   ]
  },
  {
   "cell_type": "markdown",
   "metadata": {},
   "source": [
    "----\n",
    "TODO\n",
    "  * do part iii"
   ]
  },
  {
   "cell_type": "code",
   "execution_count": null,
   "metadata": {},
   "outputs": [],
   "source": [
    "# imports\n",
    "import random\n",
    "import math\n",
    "\n",
    "# graph\n",
    "import numpy as np\n",
    "import matplotlib.pyplot as plt"
   ]
  },
  {
   "cell_type": "code",
   "execution_count": null,
   "metadata": {},
   "outputs": [],
   "source": [
    "# replace with actual code later\n",
    "def placeholder(S, arr):\n",
    "    return random.randint(1, 1000)\n",
    "\n",
    "%run Sorting Algorithms.ipynb"
   ]
  },
  {
   "cell_type": "code",
   "execution_count": null,
   "metadata": {},
   "outputs": [],
   "source": [
    "# get datasets\n",
    "start = 1\n",
    "end = 10\n",
    "\n",
    "data10 = []\n",
    "data100 = []\n",
    "data1k = []\n",
    "for i in range(10):\n",
    "    data10.append(random.randint(start, end))\n",
    "\n",
    "for i in range(100):\n",
    "    data100.append(random.randint(start, end))\n",
    "\n",
    "for i in range(1000):\n",
    "    data1k.append(random.randint(start, end))"
   ]
  },
  {
   "cell_type": "code",
   "execution_count": null,
   "metadata": {},
   "outputs": [],
   "source": [
    "# calculate worst case\n",
    "# TODO all other cases\n",
    "def worstcase(S, size):\n",
    "    sum = 0\n",
    "\n",
    "    # insertion sort\n",
    "    # for i in range(S): #avg\n",
    "    #     #1/i * (1+...+i)\n",
    "    #     sum += 1/i * math.factorial(i)\n",
    "    sum += S**2\n",
    "\n",
    "    # merge sort\n",
    "    n = size - S\n",
    "    sum += n * math.log10(n) - (n-1)\n",
    "\n",
    "    return sum\n"
   ]
  },
  {
   "cell_type": "code",
   "execution_count": null,
   "metadata": {},
   "outputs": [],
   "source": [
    "# part i\n",
    "\n",
    "S = 2\n",
    "keycomps = [0, 0, 0] # 10, 100, 1k\n",
    "theory = []\n",
    "tests = [data10, data100, data1k]\n",
    "name = [\"10\", \"100\", \"1k\"]\n",
    "\n",
    "for i in range(len(keycomps)):\n",
    "    # get data\n",
    "    keycomps[i] = placeholder(S, tests[i])\n",
    "\n",
    "    # calculate worst case\n",
    "    theory.append(worstcase(S, len(tests[i])))\n",
    "    \n",
    "\n",
    "fig, axs = plt.subplots(2)\n",
    "#plot data using matplot lib\n",
    "print(keycomps)\n",
    "axs[0].bar(height=keycomps, x=name)\n",
    "\n",
    "# plot theoretical data\n",
    "axs[1].bar(height=theory, x=name)\n"
   ]
  },
  {
   "cell_type": "code",
   "execution_count": null,
   "metadata": {},
   "outputs": [],
   "source": [
    "# part ii\n",
    "\n",
    "# max value of S\n",
    "maxS = 15\n",
    "\n",
    "S = 0\n",
    "keycomps = list(range(maxS))\n",
    "theory = list(range(maxS))\n",
    "test = data1k\n",
    "\n",
    "for i in range(maxS):\n",
    "    S = i+2\n",
    "    # get data\n",
    "    keycomps[i] = (placeholder(S, test))\n",
    "\n",
    "    # calculate worst case\n",
    "    theory[i] = (worstcase(S, len(test)))\n",
    "\n",
    "print(keycomps)\n",
    "\n",
    "fig, axs = plt.subplots(2)\n",
    "#plot data using matplot lib\n",
    "print(keycomps)\n",
    "axs[0].bar(height=keycomps, x=range(maxS))\n",
    "\n",
    "# plot theoretical data\n",
    "axs[1].bar(height=theory, x=range(maxS))\n"
   ]
  },
  {
   "cell_type": "code",
   "execution_count": null,
   "metadata": {},
   "outputs": [],
   "source": [
    "# part iii\n",
    "\n",
    "#TODO determine optimal value of S"
   ]
  }
 ],
 "metadata": {
  "kernelspec": {
   "display_name": "Python 3 (ipykernel)",
   "language": "python",
   "name": "python3"
  },
  "orig_nbformat": 4
 },
 "nbformat": 4,
 "nbformat_minor": 2
}
